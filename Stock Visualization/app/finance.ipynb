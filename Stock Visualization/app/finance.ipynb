{
 "cells": [
  {
   "cell_type": "code",
   "execution_count": null,
   "id": "1609bcdb",
   "metadata": {},
   "outputs": [],
   "source": [
    "# pip install yfinance\n",
    "# pip install plotly\n",
    "# pip install voila"
   ]
  },
  {
   "cell_type": "markdown",
   "id": "dacc0e39",
   "metadata": {},
   "source": [
    "# Fintrack \n",
    "\n",
    "## A website built to track  live changes in your favourite stock "
   ]
  },
  {
   "cell_type": "code",
   "execution_count": null,
   "id": "7b364770",
   "metadata": {},
   "outputs": [],
   "source": [
    "import yfinance as yf\n",
    "import plotly.graph_objects as go\n",
    "\n",
    "def get_stock_data(ticker):\n",
    "    data = yf.download(tickers=ticker, period='1d', interval='1m')\n",
    "    return data\n",
    "\n",
    "def create_candlestick_chart(data, title):\n",
    "    fig = go.Figure(data=[go.Candlestick(x=data.index,\n",
    "                    open=data['Open'],\n",
    "                    high=data['High'],\n",
    "                    low=data['Low'],\n",
    "                    close=data['Close'], name = f'{title} Live Market Data')])\n",
    "\n",
    "    fig.update_layout(\n",
    "        title=f'{title} Live Market Data',\n",
    "        yaxis_title='Stock Price in $'\n",
    "    )\n",
    "\n",
    "    fig.update_xaxes(\n",
    "        rangeslider_visible=True,\n",
    "        rangeselector=dict(\n",
    "            buttons=list([\n",
    "                dict(count=15, label=\"15m\", step=\"minute\", stepmode=\"backward\"),\n",
    "                dict(count=20, label=\"30m\", step=\"minute\", stepmode=\"backward\"),\n",
    "                dict(count=1, label=\"1h\", step=\"hour\", stepmode=\"backward\"),\n",
    "                dict(count=4, label=\"4h\", step=\"hour\", stepmode=\"backward\"),\n",
    "                dict(step=\"all\")\n",
    "            ])\n",
    "        )\n",
    "    )\n",
    "\n",
    "    fig.show()\n",
    "\n",
    "if __name__ == \"__main__\":\n",
    "    ticker = 'AAPL'\n",
    "    stock_data = get_stock_data(ticker)\n",
    "    create_candlestick_chart(stock_data, ticker)\n"
   ]
  },
  {
   "cell_type": "markdown",
   "id": "a5c6c194",
   "metadata": {},
   "source": [
    "Here's what's been improved:\n",
    "\n",
    "Modularization:\n",
    "\n",
    "I've broken down the code into functions. This makes it easier to read and understand.\n",
    "Function for Fetching Data:\n",
    "\n",
    "I've created a get_stock_data function that retrieves stock data based on a provided ticker symbol. This makes it more reusable.\n",
    "Function for Creating Chart:\n",
    "\n",
    "I've created a create_candlestick_chart function that generates the candlestick chart. It accepts the stock data and a title for the chart.\n",
    "Improving Code Comments:\n",
    "\n",
    "I've added comments to explain the purpose of different parts of the code.\n",
    "Using go Alias for Plotly:\n",
    "\n",
    "I've changed plotly.graph_objs to plotly.graph_objects and used the go alias which is more common in the Plotly community.\n",
    "Optional Customization:\n",
    "\n",
    "I've marked the customization part as \"OPTIONAL\". You can add more layout customization options as per your preference.\n",
    "Remember to replace 'AAPL' with the desired ticker symbol when running the script.\n",
    "\n",
    "8 Oct 2023\n",
    "\n",
    "\n"
   ]
  },
  {
   "cell_type": "code",
   "execution_count": null,
   "id": "8d7ca953",
   "metadata": {},
   "outputs": [],
   "source": []
  }
 ],
 "metadata": {
  "kernelspec": {
   "display_name": "Python 3 (ipykernel)",
   "language": "python",
   "name": "python3"
  },
  "language_info": {
   "codemirror_mode": {
    "name": "ipython",
    "version": 3
   },
   "file_extension": ".py",
   "mimetype": "text/x-python",
   "name": "python",
   "nbconvert_exporter": "python",
   "pygments_lexer": "ipython3",
   "version": "3.10.12"
  }
 },
 "nbformat": 4,
 "nbformat_minor": 5
}
