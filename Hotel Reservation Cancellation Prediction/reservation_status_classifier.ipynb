{
 "cells": [
  {
   "cell_type": "code",
   "execution_count": null,
   "metadata": {},
   "outputs": [],
   "source": [
    "import xgboost \n",
    "import optuna\n",
    "import pandas as pd\n",
    "from sklearn.model_selection import train_test_split\n",
    "from sklearn.metrics import f1_score"
   ]
  },
  {
   "cell_type": "code",
   "execution_count": null,
   "metadata": {},
   "outputs": [],
   "source": [
    "df = pd.read_csv(\"Hotel Reservations.csv\")\n",
    "df.head()"
   ]
  },
  {
   "cell_type": "code",
   "execution_count": 78,
   "metadata": {},
   "outputs": [
    {
     "name": "stdout",
     "output_type": "stream",
     "text": [
      "<class 'pandas.core.frame.DataFrame'>\n",
      "RangeIndex: 36275 entries, 0 to 36274\n",
      "Data columns (total 17 columns):\n",
      " #   Column                                Non-Null Count  Dtype  \n",
      "---  ------                                --------------  -----  \n",
      " 0   no_of_adults                          36275 non-null  int64  \n",
      " 1   no_of_children                        36275 non-null  int64  \n",
      " 2   no_of_weekend_nights                  36275 non-null  int64  \n",
      " 3   no_of_week_nights                     36275 non-null  int64  \n",
      " 4   type_of_meal_plan                     36275 non-null  object \n",
      " 5   required_car_parking_space            36275 non-null  int64  \n",
      " 6   room_type_reserved                    36275 non-null  object \n",
      " 7   lead_time                             36275 non-null  int64  \n",
      " 8   arrival_year                          36275 non-null  object \n",
      " 9   arrival_month                         36275 non-null  object \n",
      " 10  market_segment_type                   36275 non-null  object \n",
      " 11  repeated_guest                        36275 non-null  int64  \n",
      " 12  no_of_previous_cancellations          36275 non-null  int64  \n",
      " 13  no_of_previous_bookings_not_canceled  36275 non-null  int64  \n",
      " 14  avg_price_per_room                    36275 non-null  float64\n",
      " 15  no_of_special_requests                36275 non-null  int64  \n",
      " 16  booking_status                        36275 non-null  int64  \n",
      "dtypes: float64(1), int64(11), object(5)\n",
      "memory usage: 4.7+ MB\n"
     ]
    }
   ],
   "source": [
    "df.info()"
   ]
  },
  {
   "cell_type": "code",
   "execution_count": 100,
   "metadata": {},
   "outputs": [
    {
     "data": {
      "text/plain": [
       "58"
      ]
     },
     "execution_count": 100,
     "metadata": {},
     "output_type": "execute_result"
    }
   ],
   "source": [
    "df.no_of_previous_bookings_not_canceled.max()"
   ]
  },
  {
   "cell_type": "code",
   "execution_count": null,
   "metadata": {},
   "outputs": [],
   "source": [
    "df.type_of_meal_plan.nunique()"
   ]
  },
  {
   "cell_type": "code",
   "execution_count": null,
   "metadata": {},
   "outputs": [],
   "source": [
    "df.room_type_reserved.nunique()"
   ]
  },
  {
   "cell_type": "code",
   "execution_count": null,
   "metadata": {},
   "outputs": [],
   "source": [
    "df.market_segment_type.nunique()"
   ]
  },
  {
   "cell_type": "code",
   "execution_count": null,
   "metadata": {},
   "outputs": [],
   "source": [
    "df.drop([\"Booking_ID\", \"arrival_date\"],axis=1, inplace=True)\n",
    "df[\"arrival_year\"] = df[\"arrival_year\"].astype(str)\n",
    "df[\"arrival_month\"] = df[\"arrival_month\"].astype(str)"
   ]
  },
  {
   "cell_type": "code",
   "execution_count": null,
   "metadata": {},
   "outputs": [],
   "source": [
    "from sklearn.preprocessing import OneHotEncoder, LabelEncoder\n",
    "from sklearn.compose import ColumnTransformer\n",
    "from sklearn.model_selection import train_test_split\n",
    "\n",
    "\n",
    "cat_features = [\"type_of_meal_plan\", \"room_type_reserved\", \"market_segment_type\", \"arrival_year\", \"arrival_month\"]\n",
    "\n",
    "cat_pipeline = ColumnTransformer(\n",
    "    transformers=[\n",
    "        ('onehot', OneHotEncoder(sparse_output=False), cat_features),\n",
    "    ]\n",
    ")\n",
    "\n",
    "label_encoder = LabelEncoder()\n",
    "df[\"booking_status\"] = label_encoder.fit_transform(df[\"booking_status\"])\n",
    "\n",
    "target = [\"booking_status\"]\n",
    "features = df.drop(\"booking_status\", axis=1).columns.to_list()\n",
    "\n",
    "X_train, X_valid, y_train,  y_valid = train_test_split(df[features], df[target], random_state=79)\n",
    "\n",
    "\n",
    "X_train = cat_pipeline.fit_transform(X_train)\n",
    "X_valid = cat_pipeline.transform(X_valid)"
   ]
  },
  {
   "cell_type": "code",
   "execution_count": null,
   "metadata": {},
   "outputs": [],
   "source": [
    "X_train.shape"
   ]
  },
  {
   "cell_type": "code",
   "execution_count": null,
   "metadata": {},
   "outputs": [],
   "source": [
    "def objective(trial):\n",
    "    params = {\n",
    "        \"objective\": \"binary:logistic\",\n",
    "        \"eval_metric\": \"logloss\",\n",
    "        \"booster\": trial.suggest_categorical(\"booster\", [\"gbtree\", \"gblinear\", \"dart\"]),\n",
    "        \"max_depth\": trial.suggest_int(\"max_depth\", 3, 10),\n",
    "        \"min_child_weight\": trial.suggest_float(\"min_child_weight\", 0.1, 10),\n",
    "        \"subsample\": trial.suggest_float(\"subsample\", 0.1, 1.0),\n",
    "        \"colsample_bytree\": trial.suggest_float(\"colsample_bytree\", 0.1, 1.0),\n",
    "        \"learning_rate\": trial.suggest_float(\"learning_rate\", 0.001, 1.0),\n",
    "    }\n",
    "\n",
    "    dtrain = xgboost.DMatrix(X_train, label=y_train)\n",
    "    dtest = xgboost.DMatrix(X_valid, label=y_valid)\n",
    "\n",
    "    model = xgboost.train(params, dtrain)\n",
    "    y_pred = model.predict(dtest)\n",
    "\n",
    "    f1 = f1_score(y_valid, (y_pred > 0.5).astype(int))\n",
    "    return -f1\n"
   ]
  },
  {
   "cell_type": "code",
   "execution_count": null,
   "metadata": {},
   "outputs": [],
   "source": [
    "study = optuna.create_study(direction=\"maximize\")\n",
    "study.optimize(objective, n_trials=100)\n",
    "best_params = study.best_params\n",
    "print(\"Best Hyperparameters:\", best_params)"
   ]
  },
  {
   "cell_type": "code",
   "execution_count": null,
   "metadata": {},
   "outputs": [],
   "source": [
    "final_params = {\n",
    "    \"objective\": \"binary:logistic\",\n",
    "    \"eval_metric\": \"logloss\",\n",
    "    **best_params,\n",
    "}\n",
    "\n",
    "final_model = xgboost.XGBClassifier(**final_params)\n",
    "final_model.fit(X_train, y_train)"
   ]
  },
  {
   "cell_type": "code",
   "execution_count": null,
   "metadata": {},
   "outputs": [],
   "source": [
    "y_pred = final_model.predict(X_valid)\n",
    "f1 = f1_score(y_valid, y_pred)\n",
    "print(\"Final Model F1 Score:\", f1)"
   ]
  },
  {
   "cell_type": "code",
   "execution_count": 101,
   "metadata": {},
   "outputs": [],
   "source": [
    "import pickle\n",
    "\n",
    "# with open(\"model.pkl\", \"wb\") as file:\n",
    "#     pickle.dump(final_model, file)\n",
    "\n",
    "# with open(\"column_preprocessor.pkl\", \"wb\") as file:\n",
    "#     pickle.dump(cat_pipeline, file)\n",
    "\n",
    "with open(\"label_decoder.pkl\", \"wb\") as file:\n",
    "    pickle.dump(label_encoder, file)"
   ]
  }
 ],
 "metadata": {
  "kernelspec": {
   "display_name": "hotel",
   "language": "python",
   "name": "python3"
  },
  "language_info": {
   "codemirror_mode": {
    "name": "ipython",
    "version": 3
   },
   "file_extension": ".py",
   "mimetype": "text/x-python",
   "name": "python",
   "nbconvert_exporter": "python",
   "pygments_lexer": "ipython3",
   "version": "3.11.5"
  }
 },
 "nbformat": 4,
 "nbformat_minor": 2
}
